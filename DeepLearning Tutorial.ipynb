{
 "cells": [
  {
   "cell_type": "markdown",
   "id": "79089391",
   "metadata": {},
   "source": [
    "### 텐서플로우를 이용한 딥러닝"
   ]
  },
  {
   "cell_type": "code",
   "execution_count": 6,
   "id": "4e860c8c",
   "metadata": {},
   "outputs": [
    {
     "name": "stdout",
     "output_type": "stream",
     "text": [
      "Epoch 1/100\n",
      "47/47 [==============================] - 0s 545us/step - loss: 0.8781 - accuracy: 0.7774\n",
      "Epoch 2/100\n",
      "47/47 [==============================] - 0s 492us/step - loss: 0.4637 - accuracy: 0.8707\n",
      "Epoch 3/100\n",
      "47/47 [==============================] - 0s 487us/step - loss: 0.4652 - accuracy: 0.8347\n",
      "Epoch 4/100\n",
      "47/47 [==============================] - 0s 455us/step - loss: 0.5176 - accuracy: 0.8405\n",
      "Epoch 5/100\n",
      "47/47 [==============================] - 0s 455us/step - loss: 0.4461 - accuracy: 0.8570\n",
      "Epoch 6/100\n",
      "47/47 [==============================] - 0s 494us/step - loss: 0.4391 - accuracy: 0.8523\n",
      "Epoch 7/100\n",
      "47/47 [==============================] - 0s 455us/step - loss: 0.4616 - accuracy: 0.8443\n",
      "Epoch 8/100\n",
      "47/47 [==============================] - 0s 477us/step - loss: 0.4523 - accuracy: 0.8447\n",
      "Epoch 9/100\n",
      "47/47 [==============================] - 0s 455us/step - loss: 0.3877 - accuracy: 0.8618\n",
      "Epoch 10/100\n",
      "47/47 [==============================] - 0s 476us/step - loss: 0.3944 - accuracy: 0.8697\n",
      "Epoch 11/100\n",
      "47/47 [==============================] - 0s 455us/step - loss: 0.4379 - accuracy: 0.8480\n",
      "Epoch 12/100\n",
      "47/47 [==============================] - 0s 434us/step - loss: 0.4470 - accuracy: 0.8449\n",
      "Epoch 13/100\n",
      "47/47 [==============================] - 0s 457us/step - loss: 0.4789 - accuracy: 0.8302\n",
      "Epoch 14/100\n",
      "47/47 [==============================] - 0s 474us/step - loss: 0.4402 - accuracy: 0.8438\n",
      "Epoch 15/100\n",
      "47/47 [==============================] - 0s 455us/step - loss: 0.4928 - accuracy: 0.8220\n",
      "Epoch 16/100\n",
      "47/47 [==============================] - 0s 434us/step - loss: 0.4119 - accuracy: 0.8534\n",
      "Epoch 17/100\n",
      "47/47 [==============================] - 0s 455us/step - loss: 0.4383 - accuracy: 0.8564\n",
      "Epoch 18/100\n",
      "47/47 [==============================] - 0s 455us/step - loss: 0.4807 - accuracy: 0.8556\n",
      "Epoch 19/100\n",
      "47/47 [==============================] - 0s 455us/step - loss: 0.4253 - accuracy: 0.8459\n",
      "Epoch 20/100\n",
      "47/47 [==============================] - 0s 455us/step - loss: 0.4403 - accuracy: 0.8561\n",
      "Epoch 21/100\n",
      "47/47 [==============================] - 0s 455us/step - loss: 0.4191 - accuracy: 0.8513\n",
      "Epoch 22/100\n",
      "47/47 [==============================] - 0s 467us/step - loss: 0.4100 - accuracy: 0.8554\n",
      "Epoch 23/100\n",
      "47/47 [==============================] - 0s 516us/step - loss: 0.4205 - accuracy: 0.8538\n",
      "Epoch 24/100\n",
      "47/47 [==============================] - 0s 458us/step - loss: 0.4226 - accuracy: 0.8471\n",
      "Epoch 25/100\n",
      "47/47 [==============================] - 0s 477us/step - loss: 0.4349 - accuracy: 0.8394\n",
      "Epoch 26/100\n",
      "47/47 [==============================] - 0s 455us/step - loss: 0.4526 - accuracy: 0.8552\n",
      "Epoch 27/100\n",
      "47/47 [==============================] - 0s 477us/step - loss: 0.4590 - accuracy: 0.8312\n",
      "Epoch 28/100\n",
      "47/47 [==============================] - 0s 476us/step - loss: 0.4469 - accuracy: 0.8461\n",
      "Epoch 29/100\n",
      "47/47 [==============================] - 0s 520us/step - loss: 0.3775 - accuracy: 0.8803\n",
      "Epoch 30/100\n",
      "47/47 [==============================] - 0s 529us/step - loss: 0.3581 - accuracy: 0.8892\n",
      "Epoch 31/100\n",
      "47/47 [==============================] - ETA: 0s - loss: 0.3630 - accuracy: 0.90 - 0s 585us/step - loss: 0.4157 - accuracy: 0.8745\n",
      "Epoch 32/100\n",
      "47/47 [==============================] - 0s 514us/step - loss: 0.4037 - accuracy: 0.8639\n",
      "Epoch 33/100\n",
      "47/47 [==============================] - 0s 500us/step - loss: 0.4367 - accuracy: 0.8560\n",
      "Epoch 34/100\n",
      "47/47 [==============================] - 0s 477us/step - loss: 0.3961 - accuracy: 0.8582\n",
      "Epoch 35/100\n",
      "47/47 [==============================] - 0s 535us/step - loss: 0.4047 - accuracy: 0.8514\n",
      "Epoch 36/100\n",
      "47/47 [==============================] - 0s 455us/step - loss: 0.4423 - accuracy: 0.8340\n",
      "Epoch 37/100\n",
      "47/47 [==============================] - 0s 543us/step - loss: 0.4449 - accuracy: 0.8519\n",
      "Epoch 38/100\n",
      "47/47 [==============================] - 0s 455us/step - loss: 0.4314 - accuracy: 0.8452\n",
      "Epoch 39/100\n",
      "47/47 [==============================] - 0s 558us/step - loss: 0.4797 - accuracy: 0.8291\n",
      "Epoch 40/100\n",
      "47/47 [==============================] - 0s 478us/step - loss: 0.4177 - accuracy: 0.8508\n",
      "Epoch 41/100\n",
      "47/47 [==============================] - 0s 489us/step - loss: 0.4472 - accuracy: 0.8508\n",
      "Epoch 42/100\n",
      "47/47 [==============================] - 0s 480us/step - loss: 0.4340 - accuracy: 0.8517\n",
      "Epoch 43/100\n",
      "47/47 [==============================] - ETA: 0s - loss: 0.1069 - accuracy: 1.00 - 0s 511us/step - loss: 0.3614 - accuracy: 0.8727\n",
      "Epoch 44/100\n",
      "47/47 [==============================] - 0s 479us/step - loss: 0.3523 - accuracy: 0.8783\n",
      "Epoch 45/100\n",
      "47/47 [==============================] - 0s 520us/step - loss: 0.3800 - accuracy: 0.8555\n",
      "Epoch 46/100\n",
      "47/47 [==============================] - 0s 454us/step - loss: 0.4116 - accuracy: 0.8546\n",
      "Epoch 47/100\n",
      "47/47 [==============================] - 0s 477us/step - loss: 0.3496 - accuracy: 0.8812\n",
      "Epoch 48/100\n",
      "47/47 [==============================] - 0s 512us/step - loss: 0.3902 - accuracy: 0.8645\n",
      "Epoch 49/100\n",
      "47/47 [==============================] - 0s 478us/step - loss: 0.4169 - accuracy: 0.8361\n",
      "Epoch 50/100\n",
      "47/47 [==============================] - 0s 540us/step - loss: 0.3604 - accuracy: 0.8783\n",
      "Epoch 51/100\n",
      "47/47 [==============================] - 0s 512us/step - loss: 0.4260 - accuracy: 0.8457\n",
      "Epoch 52/100\n",
      "47/47 [==============================] - 0s 477us/step - loss: 0.4176 - accuracy: 0.8520\n",
      "Epoch 53/100\n",
      "47/47 [==============================] - 0s 498us/step - loss: 0.4213 - accuracy: 0.8481\n",
      "Epoch 54/100\n",
      "47/47 [==============================] - 0s 442us/step - loss: 0.4200 - accuracy: 0.8348\n",
      "Epoch 55/100\n",
      "47/47 [==============================] - 0s 455us/step - loss: 0.4092 - accuracy: 0.8632\n",
      "Epoch 56/100\n",
      "47/47 [==============================] - 0s 455us/step - loss: 0.3982 - accuracy: 0.8476\n",
      "Epoch 57/100\n",
      "47/47 [==============================] - 0s 473us/step - loss: 0.4001 - accuracy: 0.8525\n",
      "Epoch 58/100\n",
      "47/47 [==============================] - 0s 446us/step - loss: 0.3528 - accuracy: 0.8703\n",
      "Epoch 59/100\n",
      "47/47 [==============================] - 0s 434us/step - loss: 0.4201 - accuracy: 0.8475\n",
      "Epoch 60/100\n",
      "47/47 [==============================] - 0s 467us/step - loss: 0.3578 - accuracy: 0.8774\n",
      "Epoch 61/100\n",
      "47/47 [==============================] - 0s 542us/step - loss: 0.3907 - accuracy: 0.8725\n",
      "Epoch 62/100\n",
      "47/47 [==============================] - 0s 450us/step - loss: 0.4215 - accuracy: 0.8389\n",
      "Epoch 63/100\n",
      "47/47 [==============================] - 0s 489us/step - loss: 0.3711 - accuracy: 0.8686\n",
      "Epoch 64/100\n",
      "47/47 [==============================] - 0s 475us/step - loss: 0.4243 - accuracy: 0.8525\n",
      "Epoch 65/100\n",
      "47/47 [==============================] - 0s 455us/step - loss: 0.3775 - accuracy: 0.8639\n",
      "Epoch 66/100\n",
      "47/47 [==============================] - 0s 475us/step - loss: 0.4256 - accuracy: 0.8517\n",
      "Epoch 67/100\n",
      "47/47 [==============================] - 0s 480us/step - loss: 0.3803 - accuracy: 0.8612\n",
      "Epoch 68/100\n",
      "47/47 [==============================] - 0s 477us/step - loss: 0.4071 - accuracy: 0.8624\n",
      "Epoch 69/100\n",
      "47/47 [==============================] - ETA: 0s - loss: 0.5287 - accuracy: 0.70 - 0s 459us/step - loss: 0.4336 - accuracy: 0.8197\n",
      "Epoch 70/100\n",
      "47/47 [==============================] - 0s 477us/step - loss: 0.4068 - accuracy: 0.8519\n",
      "Epoch 71/100\n",
      "47/47 [==============================] - 0s 455us/step - loss: 0.4412 - accuracy: 0.8194\n",
      "Epoch 72/100\n",
      "47/47 [==============================] - 0s 478us/step - loss: 0.3777 - accuracy: 0.8554\n",
      "Epoch 73/100\n",
      "47/47 [==============================] - ETA: 0s - loss: 0.2847 - accuracy: 0.90 - 0s 455us/step - loss: 0.4042 - accuracy: 0.8489\n",
      "Epoch 74/100\n",
      "47/47 [==============================] - 0s 455us/step - loss: 0.3783 - accuracy: 0.8595\n",
      "Epoch 75/100\n",
      "47/47 [==============================] - 0s 477us/step - loss: 0.3516 - accuracy: 0.8812\n",
      "Epoch 76/100\n",
      "47/47 [==============================] - 0s 455us/step - loss: 0.3733 - accuracy: 0.8629\n",
      "Epoch 77/100\n",
      "47/47 [==============================] - 0s 492us/step - loss: 0.4473 - accuracy: 0.8247\n",
      "Epoch 78/100\n",
      "47/47 [==============================] - 0s 455us/step - loss: 0.3992 - accuracy: 0.8696\n",
      "Epoch 79/100\n"
     ]
    },
    {
     "name": "stdout",
     "output_type": "stream",
     "text": [
      "47/47 [==============================] - 0s 465us/step - loss: 0.4184 - accuracy: 0.8299\n",
      "Epoch 80/100\n",
      "47/47 [==============================] - 0s 477us/step - loss: 0.4250 - accuracy: 0.8335\n",
      "Epoch 81/100\n",
      "47/47 [==============================] - 0s 457us/step - loss: 0.3712 - accuracy: 0.8793\n",
      "Epoch 82/100\n",
      "47/47 [==============================] - 0s 455us/step - loss: 0.4214 - accuracy: 0.8487\n",
      "Epoch 83/100\n",
      "47/47 [==============================] - 0s 412us/step - loss: 0.4450 - accuracy: 0.8381\n",
      "Epoch 84/100\n",
      "47/47 [==============================] - 0s 434us/step - loss: 0.3537 - accuracy: 0.8840\n",
      "Epoch 85/100\n",
      "47/47 [==============================] - 0s 455us/step - loss: 0.3822 - accuracy: 0.8617\n",
      "Epoch 86/100\n",
      "47/47 [==============================] - 0s 434us/step - loss: 0.3410 - accuracy: 0.8688\n",
      "Epoch 87/100\n",
      "47/47 [==============================] - 0s 434us/step - loss: 0.3933 - accuracy: 0.8567\n",
      "Epoch 88/100\n",
      "47/47 [==============================] - 0s 434us/step - loss: 0.3747 - accuracy: 0.8538\n",
      "Epoch 89/100\n",
      "47/47 [==============================] - 0s 434us/step - loss: 0.3942 - accuracy: 0.8320\n",
      "Epoch 90/100\n",
      "47/47 [==============================] - 0s 434us/step - loss: 0.3722 - accuracy: 0.8768\n",
      "Epoch 91/100\n",
      "47/47 [==============================] - 0s 477us/step - loss: 0.4208 - accuracy: 0.8516\n",
      "Epoch 92/100\n",
      "47/47 [==============================] - 0s 434us/step - loss: 0.4239 - accuracy: 0.8407\n",
      "Epoch 93/100\n",
      "47/47 [==============================] - 0s 434us/step - loss: 0.4079 - accuracy: 0.8362\n",
      "Epoch 94/100\n",
      "47/47 [==============================] - 0s 455us/step - loss: 0.3913 - accuracy: 0.8367\n",
      "Epoch 95/100\n",
      "47/47 [==============================] - 0s 455us/step - loss: 0.4023 - accuracy: 0.8584\n",
      "Epoch 96/100\n",
      "47/47 [==============================] - 0s 434us/step - loss: 0.4342 - accuracy: 0.8596\n",
      "Epoch 97/100\n",
      "47/47 [==============================] - 0s 434us/step - loss: 0.4469 - accuracy: 0.8137\n",
      "Epoch 98/100\n",
      "47/47 [==============================] - 0s 434us/step - loss: 0.3893 - accuracy: 0.8690\n",
      "Epoch 99/100\n",
      "47/47 [==============================] - 0s 455us/step - loss: 0.3737 - accuracy: 0.8620\n",
      "Epoch 100/100\n",
      "47/47 [==============================] - 0s 434us/step - loss: 0.3956 - accuracy: 0.8330\n"
     ]
    },
    {
     "data": {
      "text/plain": [
       "<tensorflow.python.keras.callbacks.History at 0x224ed157940>"
      ]
     },
     "execution_count": 6,
     "metadata": {},
     "output_type": "execute_result"
    }
   ],
   "source": [
    "from tensorflow.keras.models import Sequential\n",
    "from tensorflow.keras.layers import Dense\n",
    "\n",
    "import numpy as np \n",
    "import tensorflow as tf\n",
    "\n",
    "np.random.seed(3)\n",
    "tf.random.set_seed(3)\n",
    "\n",
    "Data_set = np.loadtxt(\"ThoraricSurgery.csv\", delimiter=\",\")\n",
    "Data_set.shape\n",
    "\n",
    "X = Data_set[:,0:17]\n",
    "Y = Data_set[:,17]\n",
    "\n",
    "model = Sequential()  #신경망\n",
    "model.add(Dense(30, input_dim = 17, activation = 'relu'))\n",
    "model.add(Dense(1, activation = 'sigmoid'))\n",
    "\n",
    "model.compile(loss = \"binary_crossentropy\", optimizer = 'adam', metrics=['accuracy'])\n",
    "model.fit(X, Y, epochs=100, batch_size=10)"
   ]
  },
  {
   "cell_type": "code",
   "execution_count": 23,
   "id": "f39d4bc3",
   "metadata": {},
   "outputs": [
    {
     "name": "stdout",
     "output_type": "stream",
     "text": [
      "Epoch 1/30\n",
      "200/200 [==============================] - 0s 434us/step - loss: 6.4528 - mse: 6.4528\n",
      "Epoch 2/30\n",
      "200/200 [==============================] - 0s 360us/step - loss: 0.1699 - mse: 0.1699 \n",
      "Epoch 3/30\n",
      "200/200 [==============================] - 0s 377us/step - loss: 0.1694 - mse: 0.1694\n",
      "Epoch 4/30\n",
      "200/200 [==============================] - 0s 366us/step - loss: 0.1676 - mse: 0.1676\n",
      "Epoch 5/30\n",
      "200/200 [==============================] - 0s 351us/step - loss: 0.1564 - mse: 0.1564 \n",
      "Epoch 6/30\n",
      "200/200 [==============================] - 0s 346us/step - loss: 0.1082 - mse: 0.1082\n",
      "Epoch 7/30\n",
      "200/200 [==============================] - 0s 348us/step - loss: 0.1237 - mse: 0.1237\n",
      "Epoch 8/30\n",
      "200/200 [==============================] - 0s 339us/step - loss: 0.1263 - mse: 0.1263\n",
      "Epoch 9/30\n",
      "200/200 [==============================] - 0s 355us/step - loss: 0.0967 - mse: 0.0967\n",
      "Epoch 10/30\n",
      "200/200 [==============================] - 0s 362us/step - loss: 0.1144 - mse: 0.1144\n",
      "Epoch 11/30\n",
      "200/200 [==============================] - 0s 375us/step - loss: 0.1114 - mse: 0.1114\n",
      "Epoch 12/30\n",
      "200/200 [==============================] - 0s 382us/step - loss: 0.1019 - mse: 0.1019\n",
      "Epoch 13/30\n",
      "200/200 [==============================] - 0s 392us/step - loss: 0.0884 - mse: 0.0884\n",
      "Epoch 14/30\n",
      "200/200 [==============================] - 0s 354us/step - loss: 0.0818 - mse: 0.0818\n",
      "Epoch 15/30\n",
      "200/200 [==============================] - 0s 374us/step - loss: 0.0820 - mse: 0.0820\n",
      "Epoch 16/30\n",
      "200/200 [==============================] - 0s 356us/step - loss: 0.1089 - mse: 0.1089\n",
      "Epoch 17/30\n",
      "200/200 [==============================] - 0s 358us/step - loss: 0.0793 - mse: 0.0793\n",
      "Epoch 18/30\n",
      "200/200 [==============================] - 0s 361us/step - loss: 0.0908 - mse: 0.0908\n",
      "Epoch 19/30\n",
      "200/200 [==============================] - 0s 361us/step - loss: 0.0888 - mse: 0.0888\n",
      "Epoch 20/30\n",
      "200/200 [==============================] - 0s 386us/step - loss: 0.0682 - mse: 0.0682\n",
      "Epoch 21/30\n",
      "200/200 [==============================] - 0s 376us/step - loss: 0.0876 - mse: 0.0876\n",
      "Epoch 22/30\n",
      "200/200 [==============================] - 0s 347us/step - loss: 0.1005 - mse: 0.1005\n",
      "Epoch 23/30\n",
      "200/200 [==============================] - 0s 369us/step - loss: 0.0933 - mse: 0.0933\n",
      "Epoch 24/30\n",
      "200/200 [==============================] - 0s 366us/step - loss: 0.0873 - mse: 0.0873\n",
      "Epoch 25/30\n",
      "200/200 [==============================] - 0s 408us/step - loss: 0.0789 - mse: 0.0789\n",
      "Epoch 26/30\n",
      "200/200 [==============================] - 0s 392us/step - loss: 0.0994 - mse: 0.0994\n",
      "Epoch 27/30\n",
      "200/200 [==============================] - 0s 381us/step - loss: 0.0819 - mse: 0.0819\n",
      "Epoch 28/30\n",
      "200/200 [==============================] - 0s 365us/step - loss: 0.0770 - mse: 0.0770\n",
      "Epoch 29/30\n",
      "200/200 [==============================] - 0s 365us/step - loss: 0.0845 - mse: 0.0845\n",
      "Epoch 30/30\n",
      "200/200 [==============================] - 0s 351us/step - loss: 0.0813 - mse: 0.0813\n",
      "WARNING:tensorflow:6 out of the last 12 calls to <function Model.make_predict_function.<locals>.predict_function at 0x00000224EFBBDEE0> triggered tf.function retracing. Tracing is expensive and the excessive number of tracings could be due to (1) creating @tf.function repeatedly in a loop, (2) passing tensors with different shapes, (3) passing Python objects instead of tensors. For (1), please define your @tf.function outside of the loop. For (2), @tf.function has experimental_relax_shapes=True option that relaxes argument shapes that can avoid unnecessary retracing. For (3), please refer to https://www.tensorflow.org/guide/function#controlling_retracing and https://www.tensorflow.org/api_docs/python/tf/function for  more details.\n"
     ]
    },
    {
     "data": {
      "image/png": "[encoded data removed]",
      "text/plain": [
       "<Figure size 432x288 with 1 Axes>"
      ]
     },
     "metadata": {
      "needs_background": "light"
     },
     "output_type": "display_data"
    }
   ],
   "source": [
    "from tensorflow.keras.models import Sequential\n",
    "from tensorflow.keras.layers import Dense\n",
    "\n",
    "import numpy as np \n",
    "import tensorflow as tf\n",
    "import matplotlib.pyplot as plt\n",
    "\n",
    "X  = data = np.linspace(1,2,200)\n",
    "# X.shape\n",
    "Y = X *4 + np.random.randn(200) *0.3\n",
    "# Y\n",
    "\n",
    "model = Sequential()\n",
    "model.add(Dense(1, input_dim=1, activation = 'linear'))\n",
    "model.compile(optimizer='sgd',loss = 'mse', metrics=['mse'])\n",
    "model.fit(X, Y, batch_size=1, epochs=30)\n",
    "\n",
    "predict = model.predict(data)\n",
    "plt.plot(data,predict,'b',data,Y,'k.')\n",
    "plt.show()\n"
   ]
  },
  {
   "cell_type": "markdown",
   "id": "fb6f6c46",
   "metadata": {},
   "source": [
    "### 선형회귀"
   ]
  },
  {
   "cell_type": "code",
   "execution_count": 45,
   "id": "193615c8",
   "metadata": {},
   "outputs": [
    {
     "name": "stdout",
     "output_type": "stream",
     "text": [
      "2.3 79.0\n"
     ]
    }
   ],
   "source": [
    "import numpy as np\n",
    "\n",
    "x = [2,4,6,8]\n",
    "y = [81,93,91,97]\n",
    "\n",
    "mx = np.mean(x)\n",
    "my = np.mean(y)\n",
    "\n",
    "divisor = sum([(mx-i)**2 for i in x])\n",
    "\n",
    "def top(x,mx,y,my):\n",
    "    d = 0\n",
    "    for i in range(len(x)):\n",
    "        d += (x[i] -mx) *(y[i]-my)\n",
    "    return d\n",
    "\n",
    "dividend = top(x,mx,y,my)\n",
    "a = dividend / divisor\n",
    "\n",
    "b = my - (mx*a)\n",
    "print(a,b)"
   ]
  },
  {
   "cell_type": "code",
   "execution_count": 47,
   "id": "77c91841",
   "metadata": {},
   "outputs": [
    {
     "data": {
      "text/plain": [
       "<matplotlib.legend.Legend at 0x224f13e9e20>"
      ]
     },
     "execution_count": 47,
     "metadata": {},
     "output_type": "execute_result"
    },
    {
     "data": {
      "image/png": "[encoded data removed]",
      "text/plain": [
       "<Figure size 432x288 with 1 Axes>"
      ]
     },
     "metadata": {
      "needs_background": "light"
     },
     "output_type": "display_data"
    }
   ],
   "source": [
    "import matplotlib.pyplot as plt\n",
    "predict = []\n",
    "for i in x:\n",
    "    pre_y = a*i + b\n",
    "    predict.append(pre_y)\n",
    "plt.scatter(x, y,label='real')\n",
    "plt.plot(x,predict,c='r',label=\"predict\")\n",
    "plt.legend()"
   ]
  },
  {
   "cell_type": "code",
   "execution_count": 54,
   "id": "59d368ef",
   "metadata": {},
   "outputs": [
    {
     "name": "stdout",
     "output_type": "stream",
     "text": [
      "공부시간: 2,실제점수: 81, 예측점수: 83.6\n",
      "공부시간: 4,실제점수: 93, 예측점수: 88.2\n",
      "공부시간: 6,실제점수: 91, 예측점수: 92.8\n",
      "공부시간: 8,실제점수: 97, 예측점수: 97.4\n",
      "MSE 최종값: 8.299999999999985\n"
     ]
    }
   ],
   "source": [
    "fake_a_b = [2.3,79]\n",
    "\n",
    "data = [[2,81],[4,93],[6,91],[8,97]]\n",
    "x = [i[0] for i in data]  # 배열로 바꿔줌.\n",
    "y = [i[1] for i in data]\n",
    "\n",
    "def predict(x):\n",
    "    return fake_a_b[0]*x + fake_a_b[1]\n",
    "\n",
    "def mse(y,y_hat):\n",
    "    return ((y-y_hat)** 2).mean()\n",
    "\n",
    "def mse_val(y,predict_result):\n",
    "    return mse(np.array(y), np.array(predict_result))\n",
    "\n",
    "predict_result = []\n",
    "\n",
    "for i in range(len(x)):\n",
    "    predict_result.append(predict(x[i]))\n",
    "    print(f\"공부시간: {x[i]},실제점수: {y[i]}, 예측점수: {predict(x[i])}\")\n",
    "\n",
    "print(\"MSE 최종값: \" + str(mse_val(predict_result,y)))"
   ]
  },
  {
   "cell_type": "markdown",
   "id": "e8139964",
   "metadata": {},
   "source": [
    "#### 경사하강법"
   ]
  },
  {
   "cell_type": "code",
   "execution_count": 58,
   "id": "4606a0e5",
   "metadata": {},
   "outputs": [
    {
     "data": {
      "image/png": "[encoded data removed]",
      "text/plain": [
       "<Figure size 576x360 with 1 Axes>"
      ]
     },
     "metadata": {
      "needs_background": "light"
     },
     "output_type": "display_data"
    }
   ],
   "source": [
    "import numpy as np\n",
    "import pandas as pd\n",
    "import matplotlib.pyplot as plt\n",
    "\n",
    "data = [[2,81],[4,93],[6,91],[8,97]]\n",
    "x = [i[0] for i in data]\n",
    "y = [i[1] for i in data]\n",
    "\n",
    "plt.figure(figsize=(8,5))\n",
    "plt.scatter(x,y)\n",
    "plt.show()"
   ]
  },
  {
   "cell_type": "code",
   "execution_count": 62,
   "id": "dd34e042",
   "metadata": {},
   "outputs": [
    {
     "name": "stdout",
     "output_type": "stream",
     "text": [
      "0 9.28 1.81\n",
      "100 11.53011876080582 23.918598680072773\n",
      "200 8.97032309847226 39.19436444515965\n",
      "300 7.120437460344023 50.23369079298396\n",
      "400 5.783581974373916 58.21147260031546\n",
      "500 4.817477609037756 63.97677027882213\n",
      "600 4.11930368185049 68.14317368825714\n",
      "700 3.6147548462446433 71.15410535877027\n",
      "800 3.250132912370932 73.3300131222791\n",
      "900 2.986631849085022 74.90247477647904\n",
      "1000 2.7962077305599884 76.03884447716045\n",
      "1100 2.6585940736591147 76.86006392831712\n",
      "1200 2.5591449140026836 77.45353398172813\n",
      "1300 2.4872760633442614 77.8824165463088\n",
      "1400 2.4353386541916175 78.19235679206184\n",
      "1500 2.3978050851310653 78.41634108023509\n",
      "1600 2.3706807285371108 78.57820764011518\n",
      "1700 2.3510787898179495 78.6951836272307\n",
      "1800 2.336913071260949 78.77971857732653\n",
      "1900 2.3266759419080287 78.84080938719201\n",
      "2000 2.319277883209714 78.88495783757605\n",
      "2100 2.3139315336016537 78.9168625655638\n",
      "2200 2.3100678910844503 78.93991913174263\n",
      "2300 2.307275755404002 78.95658140337098\n",
      "2400 2.305257964776816 78.96862271488557\n",
      "2500 2.303799769516578 78.97732460057236\n",
      "2600 2.3027459766263103 78.9836131858659\n",
      "2700 2.3019844328976764 78.98815775314901\n",
      "2800 2.3014340886545175 78.99144197222648\n",
      "2900 2.30103637178735 78.99381537639817\n",
      "3000 2.3007489540330868 78.99553056263568\n",
      "3100 2.300541246057185 78.9967700750054\n",
      "3200 2.300391141887853 78.99766583249293\n",
      "3300 2.3002826662188194 78.99831316889394\n",
      "3400 2.3002042741873012 78.99878097901212\n",
      "3500 2.300147622675863 78.99911905100423\n",
      "3600 2.3001066823699836 78.99936336524078\n",
      "3700 2.3000770960694203 78.99953992362937\n",
      "3800 2.300055714959484 78.99966751694942\n",
      "3900 2.300040263488567 78.99975972471972\n",
      "4000 2.300029097185497 78.99982636044095\n",
      "4100 2.300021027641531 78.99987451602823\n",
      "4200 2.3000151960301456 78.99990931659097\n",
      "4300 2.3000109817038674 78.99993446588786\n",
      "4400 2.3000079361398122 78.99995264051165\n",
      "4500 2.3000057352042846 78.9999657747536\n",
      "4600 2.3000041446558424 78.99997526646648\n",
      "4700 2.3000029952153755 78.9999821258356\n",
      "4800 2.300002164550072 78.99998708289088\n",
      "4900 2.3000015642537934 78.99999066520235\n"
     ]
    }
   ],
   "source": [
    "x_data = np.array(x)\n",
    "y_data = np.array(y)\n",
    "\n",
    "a = 0\n",
    "b = 0\n",
    "\n",
    "lr = 0.01\n",
    "epochs = 5000 #이 학습을 몇번 하는가. 2001번하겠다.\n",
    "\n",
    "for i in range(epochs):\n",
    "    y_hat = a * x_data + b\n",
    "    error = y_data -y_hat\n",
    "    a_diff = -(2/len(x_data)) * sum(x_data * (error))\n",
    "    b_diff = -(2/len(x_data)) * sum(error)\n",
    "    a = a -lr * a_diff\n",
    "    b = b -lr * b_diff\n",
    "    if i % 100 == 0:\n",
    "        print(i,a,b)"
   ]
  },
  {
   "cell_type": "code",
   "execution_count": 63,
   "id": "bd59a80c",
   "metadata": {},
   "outputs": [
    {
     "data": {
      "text/plain": [
       "<matplotlib.collections.PathCollection at 0x224f1577220>"
      ]
     },
     "execution_count": 63,
     "metadata": {},
     "output_type": "execute_result"
    },
    {
     "data": {
      "image/png": "[encoded data removed]",
      "text/plain": [
       "<Figure size 432x288 with 1 Axes>"
      ]
     },
     "metadata": {
      "needs_background": "light"
     },
     "output_type": "display_data"
    }
   ],
   "source": [
    "import numpy as np\n",
    "import matplotlib.pyplot as plt\n",
    "%matplotlib inline\n",
    "\n",
    "np.random.seed(0)\n",
    "\n",
    "X = 2 * np.random.rand(100,1)\n",
    "y = 6 + 4 * X + np.random.randn(100,1)\n",
    "\n",
    "plt.scatter(X,y)"
   ]
  },
  {
   "cell_type": "code",
   "execution_count": null,
   "id": "ae9f214d",
   "metadata": {},
   "outputs": [],
   "source": [
    "def get_weight_updates(w1, w0, X, y, learning_rate = 0.01):\n",
    "    N = len(y)\n",
    "    "
   ]
  }
 ],
 "metadata": {
  "kernelspec": {
   "display_name": "Python 3",
   "language": "python",
   "name": "python3"
  },
  "language_info": {
   "codemirror_mode": {
    "name": "ipython",
    "version": 3
   },
   "file_extension": ".py",
   "mimetype": "text/x-python",
   "name": "python",
   "nbconvert_exporter": "python",
   "pygments_lexer": "ipython3",
   "version": "3.8.9"
  }
 },
 "nbformat": 4,
 "nbformat_minor": 5
}
